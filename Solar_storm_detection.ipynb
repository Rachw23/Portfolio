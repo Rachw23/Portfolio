{
 "cells": [
  {
   "cell_type": "markdown",
   "metadata": {},
   "source": [
    "## Script to determine solar storm level as defined by NOAA"
   ]
  },
  {
   "cell_type": "markdown",
   "metadata": {},
   "source": [
    "A short program that calculates and plots the total integrated proton flux above 10 MeV for a given month from GOES satellite data, available in CSV format from the NOAA website. "
   ]
  },
  {
   "cell_type": "markdown",
   "metadata": {},
   "source": [
    "#### Setting up the pandas, numpy and matplotlib routines."
   ]
  },
  {
   "cell_type": "code",
   "execution_count": 97,
   "metadata": {
    "scrolled": true
   },
   "outputs": [],
   "source": [
    "# Import pandas, numpy and matplotlib packages\n",
    "import warnings\n",
    "warnings.simplefilter('ignore', FutureWarning)\n",
    "import pandas as pd\n",
    "import numpy as np\n",
    "import matplotlib.pyplot as plt\n",
    "import seaborn as sns\n",
    "import math as math\n",
    "import datetime as datetime"
   ]
  },
  {
   "cell_type": "markdown",
   "metadata": {},
   "source": [
    "The program reads in the variables for the month, number of days in the month, year and number of the GOES satellite for the data to be processed, as defined by the user via input boxes.\n",
    "\n",
    "A good example of solar storm data requires: year=2015, month=06, days=30, satnumber=13\n",
    "This particular set of data shows very visible solar storm activity in the final plot."
   ]
  },
  {
   "cell_type": "code",
   "execution_count": 99,
   "metadata": {
    "scrolled": true
   },
   "outputs": [
    {
     "name": "stdin",
     "output_type": "stream",
     "text": [
      "Which year? (Enter 4 digit number) 2015\n",
      "Which month? (Enter in MM format) 06\n",
      "How many days are in that month? 30\n",
      "What is the number of the GOES satellite? 13\n"
     ]
    }
   ],
   "source": [
    "# Input the year of the data used\n",
    "YYYY = input('Which year? (Enter 4 digit number)')\n",
    "\n",
    "# Input the month of the data used\n",
    "MM = input('Which month? (Enter in MM format)')\n",
    "\n",
    "# Input the number of days in the month used\n",
    "DD = input('How many days are in that month?') # i.e. end-date\n",
    "\n",
    "# Input the number of the GOES satellite number\n",
    "NN = input('What is the number of the GOES satellite?')"
   ]
  },
  {
   "cell_type": "markdown",
   "metadata": {},
   "source": [
    "The above strings will be used to create new strings below to hold the full URLs of the two CSV files for the required datasets, i.e. one for the EPEAD (Energetic Proton, Electron and Alpha Detectors) data, and one for the HEPAD (High Energy Proton and Alpha Detector) data on board the satellite. \n",
    "\n",
    "\n",
    "The columns containing the date & time data in both dataframes are then converted into datetime64 format."
   ]
  },
  {
   "cell_type": "code",
   "execution_count": 101,
   "metadata": {
    "scrolled": true
   },
   "outputs": [],
   "source": [
    "# EPEAD URL string\n",
    "EPEAD = 'https://www.ncei.noaa.gov/data/goes-space-environment-monitor/access/avg/'+YYYY+'/'+MM+'/goes'+NN+'/csv/g'+NN+'_epead_p17ew_5m_'+YYYY+MM+'01_'+YYYY+MM+DD+'.csv'\n",
    "\n",
    "nEhead = 672 + int(DD) # Calculating the header row value and storing in variable nEhead - For EPEAD data, this is row number 672 + number of days input for that specific month)\n",
    "\n",
    "dfE = pd.read_csv(EPEAD, header=nEhead) # Read in the EPEAD data from CSV to dataframe dfE"
   ]
  },
  {
   "cell_type": "code",
   "execution_count": 102,
   "metadata": {},
   "outputs": [],
   "source": [
    "# HEPAD URL string\n",
    "HEPAD = 'https://www.ncei.noaa.gov/data/goes-space-environment-monitor/access/avg/'+YYYY+'/'+MM+'/goes'+NN+'/csv/g'+NN+'_hepad_ap_5m_'+YYYY+MM+'01_'+YYYY+MM+DD+'.csv'\n",
    "\n",
    "nHhead = 254 + int(DD) # Calculating the header row value and storing in variable nHhead - (Row number 254 + number of days input for that specific month)\n",
    "\n",
    "dfH = pd.read_csv(HEPAD, header=nHhead) # Read in the HEPAD data from CSV to dataframe dfH\n",
    "\n",
    "dfE['time_tag'] = pd.to_datetime(dfE['time_tag']) # Convert each date/time column labelled 'time_tag' into datetime64 format - convert EPEAD dataframe's 'time_tag' column to datetime64 format\n",
    "\n",
    "dfH['time_tag'] = pd.to_datetime(dfH['time_tag']) # Convert HEPAD dataframe's 'time_tag' column to datetime64 format"
   ]
  },
  {
   "cell_type": "code",
   "execution_count": 103,
   "metadata": {
    "scrolled": true
   },
   "outputs": [],
   "source": [
    "# Keep only rows where all data quality flags are zero for each dataframe\n",
    "# Sum of quality flags for east-facing detector\n",
    "dfE['TOT_QUALE'] = dfE['P2E_QUAL_FLAG'] + dfE['P3E_QUAL_FLAG'] + dfE['P4E_QUAL_FLAG'] + dfE['P5E_QUAL_FLAG'] + dfE['P6E_QUAL_FLAG'] + dfE['P7E_QUAL_FLAG']\n",
    "\n",
    "# Sum of quality flags for west-facing detector\n",
    "dfE['TOT_QUALW'] = dfE['P2W_QUAL_FLAG'] + dfE['P3W_QUAL_FLAG'] + dfE['P4W_QUAL_FLAG'] + dfE['P5W_QUAL_FLAG'] + dfE['P6W_QUAL_FLAG'] + dfE['P7W_QUAL_FLAG']\n",
    "\n",
    "dfE['TOT_QUAL'] = dfE['TOT_QUALE']+dfE['TOT_QUALW'] # Sum of both east and west detectors quality flags\n",
    "\n",
    "dfE = dfE[dfE.TOT_QUAL == 0] # Creating new dataframe of rows where the sum of quality flags for both detectors is zero\n",
    "\n",
    "dfH['TOT_QUAL'] = dfH['P8_QUAL_FLAG'] + dfH['P9_QUAL_FLAG'] + dfH['P10_QUAL_FLAG'] + dfH['P11_QUAL_FLAG'] # For HEPAD, sum all quality flags\n",
    "\n",
    "dfH = dfH[dfH.TOT_QUAL == 0] # Creating new dataframe of rows where the sum of quality flags is zero"
   ]
  },
  {
   "cell_type": "markdown",
   "metadata": {},
   "source": [
    "Below we take averages of the East & West corrected fluxes in the P2 - P7 proton detector channels, and only the required corrected proton fluxes and the times at which they occured are carried forward."
   ]
  },
  {
   "cell_type": "code",
   "execution_count": 105,
   "metadata": {
    "scrolled": true
   },
   "outputs": [],
   "source": [
    "# Calculate the average for the east and west detector corrected fluxes in each proton channel\n",
    "\n",
    "dfE['P2_FLUX']=(dfE['P2E_COR_FLUX']+dfE['P2W_COR_FLUX'])/2 # Average corrected flux for proton channel P2\n",
    "\n",
    "dfE['P3_FLUX']=(dfE['P3E_COR_FLUX']+dfE['P3W_COR_FLUX'])/2 # Average corrected flux for proton channel P3\n",
    "\n",
    "dfE['P4_FLUX']=(dfE['P4E_COR_FLUX']+dfE['P4W_COR_FLUX'])/2 # Average corrected flux for proton channel P4\n",
    "\n",
    "dfE['P5_FLUX']=(dfE['P5E_COR_FLUX']+dfE['P5W_COR_FLUX'])/2 # Average corrected flux for proton channel P5\n",
    "\n",
    "dfE['P6_FLUX']=(dfE['P6E_COR_FLUX']+dfE['P6W_COR_FLUX'])/2# Average corrected flux for proton channel P6\n",
    "\n",
    "dfE['P7_FLUX']=(dfE['P7E_COR_FLUX']+dfE['P7W_COR_FLUX'])/2 # Average corrected flux for proton channel P7\n",
    "\n",
    "dfE = dfE[['time_tag', 'P2_FLUX', 'P3_FLUX', 'P4_FLUX', 'P5_FLUX','P6_FLUX', 'P7_FLUX']] # Storing only EPEAD average corrected flux across east and west detectors and time data in dataframe\n",
    "\n",
    "dfH = dfH[['time_tag', 'P8_FLUX', 'P9_FLUX', 'P10_FLUX', 'P11_FLUX']] # Storing only HEPAD corrected fluxes for each proton channel and time data in dataframe"
   ]
  },
  {
   "cell_type": "markdown",
   "metadata": {},
   "source": [
    "These dataframes for EPEAD and HEPAD are now joined on 'time_tag' column with an inner join to create one dataframe, and only rows with valid data entries are kept in."
   ]
  },
  {
   "cell_type": "code",
   "execution_count": 107,
   "metadata": {},
   "outputs": [],
   "source": [
    "dfEH = pd.merge(dfE, dfH, on='time_tag', how='inner')"
   ]
  },
  {
   "cell_type": "markdown",
   "metadata": {},
   "source": [
    "The effective energy of each proton channel is the geometric mean of the channel boundary energies."
   ]
  },
  {
   "cell_type": "code",
   "execution_count": 109,
   "metadata": {
    "scrolled": true
   },
   "outputs": [],
   "source": [
    "E2 = (4.2*8.7)**0.5\n",
    "E3 = 11.2\n",
    "E4 = 24.5\n",
    "E5 = 55.8\n",
    "E6 = 130\n",
    "E7 = 315\n",
    "E8 = 372\n",
    "E9 = 463\n",
    "E10 = 598\n",
    "E11 = 1000.0"
   ]
  },
  {
   "cell_type": "markdown",
   "metadata": {},
   "source": [
    "The piece-wise power-law slopes and normalisations between each pair of energy values are calculated as:"
   ]
  },
  {
   "cell_type": "code",
   "execution_count": 111,
   "metadata": {
    "scrolled": true
   },
   "outputs": [],
   "source": [
    "# Calculate the piece-wise power law slopes and normalisation between energy values 2 & 3, 3 & 4, 4 & 5, etc.\n",
    "dfEH['alpha_23'] = (np.log10(dfEH['P3_FLUX'])-np.log10(dfEH['P2_FLUX'])) / (np.log10(E3)-np.log10(E2))\n",
    "dfEH['A_23'] = 10**(np.log10(dfEH['P2_FLUX'])-(dfEH['alpha_23']*np.log10(E2)))\n",
    "\n",
    "dfEH['alpha_34'] = (np.log10(dfEH['P4_FLUX'])-np.log10(dfEH['P3_FLUX'])) / (np.log10(E4)-np.log10(E3))\n",
    "dfEH['A_34'] = 10**(np.log10(dfEH['P3_FLUX'])-(dfEH['alpha_34']*np.log10(E3)))\n",
    "\n",
    "dfEH['alpha_45'] = (np.log10(dfEH['P5_FLUX'])-np.log10(dfEH['P4_FLUX'])) / (np.log10(E5)-np.log10(E4))\n",
    "dfEH['A_45'] = 10**(np.log10(dfEH['P4_FLUX'])-(dfEH['alpha_45']*np.log10(E4)))\n",
    "\n",
    "dfEH['alpha_56'] = (np.log10(dfEH['P6_FLUX'])-np.log10(dfEH['P5_FLUX'])) / (np.log10(E6)-np.log10(E5))\n",
    "dfEH['A_56'] = 10**(np.log10(dfEH['P5_FLUX'])-(dfEH['alpha_56']*np.log10(E5)))\n",
    "\n",
    "dfEH['alpha_67'] = (np.log10(dfEH['P7_FLUX'])-np.log10(dfEH['P6_FLUX'])) / (np.log10(E7)-np.log10(E6))\n",
    "dfEH['A_67'] = 10**(np.log10(dfEH['P6_FLUX'])-(dfEH['alpha_67']*np.log10(E6)))\n",
    "\n",
    "dfEH['alpha_78'] = (np.log10(dfEH['P8_FLUX'])-np.log10(dfEH['P7_FLUX'])) / (np.log10(E8)-np.log10(E7))\n",
    "dfEH['A_78'] = 10**(np.log10(dfEH['P7_FLUX'])-(dfEH['alpha_78']*np.log10(E7)))\n",
    "\n",
    "dfEH['alpha_89'] = (np.log10(dfEH['P9_FLUX'])-np.log10(dfEH['P8_FLUX'])) / (np.log10(E9)-np.log10(E8))\n",
    "dfEH['A_89'] = 10**(np.log10(dfEH['P8_FLUX'])-(dfEH['alpha_89']*np.log10(E8)))\n",
    "\n",
    "dfEH['alpha_910'] = (np.log10(dfEH['P10_FLUX'])-np.log10(dfEH['P9_FLUX'])) / (np.log10(E10)-np.log10(E9))\n",
    "dfEH['A_910'] = 10**(np.log10(dfEH['P9_FLUX'])-(dfEH['alpha_910']*math.log10(E9)))\n",
    "\n",
    "dfEH['alpha_1011'] = (np.log10(dfEH['P11_FLUX'])-np.log10(dfEH['P10_FLUX'])) / (np.log10(E11)-np.log10(E10))\n",
    "dfEH['A_1011'] = 10**(np.log10(dfEH['P10_FLUX'])-(dfEH['alpha_1011']*np.log10(E10)))"
   ]
  },
  {
   "cell_type": "markdown",
   "metadata": {},
   "source": [
    "The integrated proton flux across each of the channels from 10 MeV to 1000 MeV can be calculated as below."
   ]
  },
  {
   "cell_type": "code",
   "execution_count": 113,
   "metadata": {
    "scrolled": true
   },
   "outputs": [],
   "source": [
    "# Calculate the integrated proton flux from 10 MeV to 1000 MeV across channels 2 & 3, 3 & 4, 4 & 5, etc\n",
    "dfEH['totflux_23'] = (dfEH['A_23']/(dfEH['alpha_23']+1))*(E3**(dfEH['alpha_23']+1)-E2**(dfEH['alpha_23']+1))\n",
    "\n",
    "dfEH['totflux_34'] = (dfEH['A_34']/(dfEH['alpha_34']+1))*(E4**(dfEH['alpha_34']+1)-E3**(dfEH['alpha_34']+1))\n",
    "\n",
    "dfEH['totflux_45'] = (dfEH['A_45']/(dfEH['alpha_45']+1))*(E5**(dfEH['alpha_45']+1)-E4**(dfEH['alpha_45']+1))\n",
    "\n",
    "dfEH['totflux_56'] = (dfEH['A_56']/(dfEH['alpha_56']+1))*(E6**(dfEH['alpha_56']+1)-E5**(dfEH['alpha_56']+1))\n",
    "\n",
    "dfEH['totflux_67'] = (dfEH['A_67']/(dfEH['alpha_67']+1))*(E7**(dfEH['alpha_67']+1)-E6**(dfEH['alpha_67']+1))\n",
    "\n",
    "dfEH['totflux_78'] = (dfEH['A_78']/(dfEH['alpha_78']+1))*(E8**(dfEH['alpha_78']+1)-E7**(dfEH['alpha_78']+1))\n",
    "\n",
    "dfEH['totflux_89'] = (dfEH['A_89']/(dfEH['alpha_89']+1))*(E9**(dfEH['alpha_89']+1)-E8**(dfEH['alpha_89']+1))\n",
    "\n",
    "dfEH['totflux_910'] = (dfEH['A_910']/(dfEH['alpha_910']+1))*(E10**(dfEH['alpha_910']+1)-E9**(dfEH['alpha_910']+1))\n",
    "\n",
    "dfEH['totflux_1011'] = (dfEH['A_1011']/(dfEH['alpha_1011']+1))*(E11**(dfEH['alpha_1011']+1)-E10**(dfEH['alpha_1011']+1))"
   ]
  },
  {
   "cell_type": "markdown",
   "metadata": {},
   "source": [
    "And finally, the total integrated proton flux above 10 MeV is obtained by summing the individual channel integrated fluxes, and from this the solar storm level can be determined."
   ]
  },
  {
   "cell_type": "code",
   "execution_count": 115,
   "metadata": {},
   "outputs": [
    {
     "data": {
      "text/html": [
       "<div>\n",
       "<style scoped>\n",
       "    .dataframe tbody tr th:only-of-type {\n",
       "        vertical-align: middle;\n",
       "    }\n",
       "\n",
       "    .dataframe tbody tr th {\n",
       "        vertical-align: top;\n",
       "    }\n",
       "\n",
       "    .dataframe thead th {\n",
       "        text-align: right;\n",
       "    }\n",
       "</style>\n",
       "<table border=\"1\" class=\"dataframe\">\n",
       "  <thead>\n",
       "    <tr style=\"text-align: right;\">\n",
       "      <th></th>\n",
       "      <th>time_tag</th>\n",
       "      <th>P2_FLUX</th>\n",
       "      <th>P3_FLUX</th>\n",
       "      <th>P4_FLUX</th>\n",
       "      <th>P5_FLUX</th>\n",
       "      <th>P6_FLUX</th>\n",
       "      <th>P7_FLUX</th>\n",
       "      <th>P8_FLUX</th>\n",
       "      <th>P9_FLUX</th>\n",
       "      <th>P10_FLUX</th>\n",
       "      <th>...</th>\n",
       "      <th>totflux_34</th>\n",
       "      <th>totflux_45</th>\n",
       "      <th>totflux_56</th>\n",
       "      <th>totflux_67</th>\n",
       "      <th>totflux_78</th>\n",
       "      <th>totflux_89</th>\n",
       "      <th>totflux_910</th>\n",
       "      <th>totflux_1011</th>\n",
       "      <th>totflux</th>\n",
       "      <th>storm</th>\n",
       "    </tr>\n",
       "  </thead>\n",
       "  <tbody>\n",
       "    <tr>\n",
       "      <th>0</th>\n",
       "      <td>2015-06-01 00:00:00</td>\n",
       "      <td>0.021475</td>\n",
       "      <td>0.007584</td>\n",
       "      <td>0.001233</td>\n",
       "      <td>0.000731</td>\n",
       "      <td>0.000251</td>\n",
       "      <td>0.000200</td>\n",
       "      <td>0.001536</td>\n",
       "      <td>0.001355</td>\n",
       "      <td>0.000339</td>\n",
       "      <td>...</td>\n",
       "      <td>0.041436</td>\n",
       "      <td>0.028991</td>\n",
       "      <td>0.030934</td>\n",
       "      <td>0.040859</td>\n",
       "      <td>0.038331</td>\n",
       "      <td>0.131056</td>\n",
       "      <td>0.096148</td>\n",
       "      <td>0.077660</td>\n",
       "      <td>0.550661</td>\n",
       "      <td>-1.0</td>\n",
       "    </tr>\n",
       "    <tr>\n",
       "      <th>1</th>\n",
       "      <td>2015-06-01 00:05:00</td>\n",
       "      <td>0.045374</td>\n",
       "      <td>0.007584</td>\n",
       "      <td>0.002530</td>\n",
       "      <td>0.000731</td>\n",
       "      <td>0.000172</td>\n",
       "      <td>0.000053</td>\n",
       "      <td>0.001762</td>\n",
       "      <td>0.000768</td>\n",
       "      <td>0.000414</td>\n",
       "      <td>...</td>\n",
       "      <td>0.057029</td>\n",
       "      <td>0.041678</td>\n",
       "      <td>0.025919</td>\n",
       "      <td>0.017104</td>\n",
       "      <td>0.028894</td>\n",
       "      <td>0.107275</td>\n",
       "      <td>0.076325</td>\n",
       "      <td>0.076977</td>\n",
       "      <td>0.530818</td>\n",
       "      <td>-1.0</td>\n",
       "    </tr>\n",
       "    <tr>\n",
       "      <th>2</th>\n",
       "      <td>2015-06-01 00:10:00</td>\n",
       "      <td>0.033825</td>\n",
       "      <td>0.003448</td>\n",
       "      <td>0.001631</td>\n",
       "      <td>0.001244</td>\n",
       "      <td>0.000570</td>\n",
       "      <td>0.000070</td>\n",
       "      <td>0.001174</td>\n",
       "      <td>0.000994</td>\n",
       "      <td>0.000414</td>\n",
       "      <td>...</td>\n",
       "      <td>0.030749</td>\n",
       "      <td>0.043899</td>\n",
       "      <td>0.060646</td>\n",
       "      <td>0.038077</td>\n",
       "      <td>0.023139</td>\n",
       "      <td>0.098119</td>\n",
       "      <td>0.087743</td>\n",
       "      <td>0.086886</td>\n",
       "      <td>0.530623</td>\n",
       "      <td>-1.0</td>\n",
       "    </tr>\n",
       "    <tr>\n",
       "      <th>3</th>\n",
       "      <td>2015-06-01 00:15:00</td>\n",
       "      <td>0.027086</td>\n",
       "      <td>0.003448</td>\n",
       "      <td>0.003914</td>\n",
       "      <td>0.000873</td>\n",
       "      <td>0.000172</td>\n",
       "      <td>0.000096</td>\n",
       "      <td>0.001626</td>\n",
       "      <td>0.001129</td>\n",
       "      <td>0.000376</td>\n",
       "      <td>...</td>\n",
       "      <td>0.049287</td>\n",
       "      <td>0.057326</td>\n",
       "      <td>0.028614</td>\n",
       "      <td>0.023071</td>\n",
       "      <td>0.031882</td>\n",
       "      <td>0.123170</td>\n",
       "      <td>0.090392</td>\n",
       "      <td>0.089222</td>\n",
       "      <td>0.546377</td>\n",
       "      <td>-1.0</td>\n",
       "    </tr>\n",
       "    <tr>\n",
       "      <th>4</th>\n",
       "      <td>2015-06-01 00:20:00</td>\n",
       "      <td>0.027227</td>\n",
       "      <td>0.003448</td>\n",
       "      <td>0.001233</td>\n",
       "      <td>0.000731</td>\n",
       "      <td>0.000370</td>\n",
       "      <td>0.000053</td>\n",
       "      <td>0.001265</td>\n",
       "      <td>0.001084</td>\n",
       "      <td>0.000395</td>\n",
       "      <td>...</td>\n",
       "      <td>0.026797</td>\n",
       "      <td>0.028991</td>\n",
       "      <td>0.037495</td>\n",
       "      <td>0.026194</td>\n",
       "      <td>0.022567</td>\n",
       "      <td>0.106355</td>\n",
       "      <td>0.090218</td>\n",
       "      <td>0.085287</td>\n",
       "      <td>0.477488</td>\n",
       "      <td>-1.0</td>\n",
       "    </tr>\n",
       "    <tr>\n",
       "      <th>...</th>\n",
       "      <td>...</td>\n",
       "      <td>...</td>\n",
       "      <td>...</td>\n",
       "      <td>...</td>\n",
       "      <td>...</td>\n",
       "      <td>...</td>\n",
       "      <td>...</td>\n",
       "      <td>...</td>\n",
       "      <td>...</td>\n",
       "      <td>...</td>\n",
       "      <td>...</td>\n",
       "      <td>...</td>\n",
       "      <td>...</td>\n",
       "      <td>...</td>\n",
       "      <td>...</td>\n",
       "      <td>...</td>\n",
       "      <td>...</td>\n",
       "      <td>...</td>\n",
       "      <td>...</td>\n",
       "      <td>...</td>\n",
       "      <td>...</td>\n",
       "    </tr>\n",
       "    <tr>\n",
       "      <th>8508</th>\n",
       "      <td>2015-06-30 23:35:00</td>\n",
       "      <td>0.109048</td>\n",
       "      <td>0.010804</td>\n",
       "      <td>0.002574</td>\n",
       "      <td>0.000685</td>\n",
       "      <td>0.000557</td>\n",
       "      <td>0.000069</td>\n",
       "      <td>0.001355</td>\n",
       "      <td>0.000813</td>\n",
       "      <td>0.000358</td>\n",
       "      <td>...</td>\n",
       "      <td>0.069593</td>\n",
       "      <td>0.040838</td>\n",
       "      <td>0.045282</td>\n",
       "      <td>0.037338</td>\n",
       "      <td>0.025541</td>\n",
       "      <td>0.095661</td>\n",
       "      <td>0.073562</td>\n",
       "      <td>0.081907</td>\n",
       "      <td>0.665514</td>\n",
       "      <td>-1.0</td>\n",
       "    </tr>\n",
       "    <tr>\n",
       "      <th>8509</th>\n",
       "      <td>2015-06-30 23:40:00</td>\n",
       "      <td>0.274590</td>\n",
       "      <td>0.018255</td>\n",
       "      <td>0.002764</td>\n",
       "      <td>0.000685</td>\n",
       "      <td>0.000479</td>\n",
       "      <td>0.000299</td>\n",
       "      <td>0.001581</td>\n",
       "      <td>0.000813</td>\n",
       "      <td>0.000188</td>\n",
       "      <td>...</td>\n",
       "      <td>0.096866</td>\n",
       "      <td>0.042456</td>\n",
       "      <td>0.041664</td>\n",
       "      <td>0.068211</td>\n",
       "      <td>0.044834</td>\n",
       "      <td>0.103814</td>\n",
       "      <td>0.055921</td>\n",
       "      <td>0.059958</td>\n",
       "      <td>0.942331</td>\n",
       "      <td>-1.0</td>\n",
       "    </tr>\n",
       "    <tr>\n",
       "      <th>8510</th>\n",
       "      <td>2015-06-30 23:45:00</td>\n",
       "      <td>0.214534</td>\n",
       "      <td>0.003838</td>\n",
       "      <td>0.001418</td>\n",
       "      <td>0.000685</td>\n",
       "      <td>0.000155</td>\n",
       "      <td>0.000187</td>\n",
       "      <td>0.001852</td>\n",
       "      <td>0.000994</td>\n",
       "      <td>0.000320</td>\n",
       "      <td>...</td>\n",
       "      <td>0.030307</td>\n",
       "      <td>0.030011</td>\n",
       "      <td>0.023885</td>\n",
       "      <td>0.031978</td>\n",
       "      <td>0.042604</td>\n",
       "      <td>0.124034</td>\n",
       "      <td>0.078369</td>\n",
       "      <td>0.085674</td>\n",
       "      <td>0.673831</td>\n",
       "      <td>-1.0</td>\n",
       "    </tr>\n",
       "    <tr>\n",
       "      <th>8511</th>\n",
       "      <td>2015-06-30 23:50:00</td>\n",
       "      <td>0.238438</td>\n",
       "      <td>0.006495</td>\n",
       "      <td>0.001458</td>\n",
       "      <td>0.000685</td>\n",
       "      <td>0.000368</td>\n",
       "      <td>0.000222</td>\n",
       "      <td>0.001536</td>\n",
       "      <td>0.000723</td>\n",
       "      <td>0.000282</td>\n",
       "      <td>...</td>\n",
       "      <td>0.040751</td>\n",
       "      <td>0.030427</td>\n",
       "      <td>0.036268</td>\n",
       "      <td>0.051505</td>\n",
       "      <td>0.039690</td>\n",
       "      <td>0.096820</td>\n",
       "      <td>0.062002</td>\n",
       "      <td>0.077077</td>\n",
       "      <td>0.717159</td>\n",
       "      <td>-1.0</td>\n",
       "    </tr>\n",
       "    <tr>\n",
       "      <th>8512</th>\n",
       "      <td>2015-06-30 23:55:00</td>\n",
       "      <td>0.155585</td>\n",
       "      <td>0.018516</td>\n",
       "      <td>0.001418</td>\n",
       "      <td>0.001029</td>\n",
       "      <td>0.000321</td>\n",
       "      <td>0.000217</td>\n",
       "      <td>0.001491</td>\n",
       "      <td>0.000678</td>\n",
       "      <td>0.000339</td>\n",
       "      <td>...</td>\n",
       "      <td>0.075640</td>\n",
       "      <td>0.037151</td>\n",
       "      <td>0.041584</td>\n",
       "      <td>0.047811</td>\n",
       "      <td>0.038650</td>\n",
       "      <td>0.092503</td>\n",
       "      <td>0.065013</td>\n",
       "      <td>0.083109</td>\n",
       "      <td>0.780511</td>\n",
       "      <td>-1.0</td>\n",
       "    </tr>\n",
       "  </tbody>\n",
       "</table>\n",
       "<p>8513 rows × 40 columns</p>\n",
       "</div>"
      ],
      "text/plain": [
       "                time_tag   P2_FLUX   P3_FLUX   P4_FLUX   P5_FLUX   P6_FLUX  \\\n",
       "0    2015-06-01 00:00:00  0.021475  0.007584  0.001233  0.000731  0.000251   \n",
       "1    2015-06-01 00:05:00  0.045374  0.007584  0.002530  0.000731  0.000172   \n",
       "2    2015-06-01 00:10:00  0.033825  0.003448  0.001631  0.001244  0.000570   \n",
       "3    2015-06-01 00:15:00  0.027086  0.003448  0.003914  0.000873  0.000172   \n",
       "4    2015-06-01 00:20:00  0.027227  0.003448  0.001233  0.000731  0.000370   \n",
       "...                  ...       ...       ...       ...       ...       ...   \n",
       "8508 2015-06-30 23:35:00  0.109048  0.010804  0.002574  0.000685  0.000557   \n",
       "8509 2015-06-30 23:40:00  0.274590  0.018255  0.002764  0.000685  0.000479   \n",
       "8510 2015-06-30 23:45:00  0.214534  0.003838  0.001418  0.000685  0.000155   \n",
       "8511 2015-06-30 23:50:00  0.238438  0.006495  0.001458  0.000685  0.000368   \n",
       "8512 2015-06-30 23:55:00  0.155585  0.018516  0.001418  0.001029  0.000321   \n",
       "\n",
       "       P7_FLUX   P8_FLUX   P9_FLUX  P10_FLUX  ...  totflux_34  totflux_45  \\\n",
       "0     0.000200  0.001536  0.001355  0.000339  ...    0.041436    0.028991   \n",
       "1     0.000053  0.001762  0.000768  0.000414  ...    0.057029    0.041678   \n",
       "2     0.000070  0.001174  0.000994  0.000414  ...    0.030749    0.043899   \n",
       "3     0.000096  0.001626  0.001129  0.000376  ...    0.049287    0.057326   \n",
       "4     0.000053  0.001265  0.001084  0.000395  ...    0.026797    0.028991   \n",
       "...        ...       ...       ...       ...  ...         ...         ...   \n",
       "8508  0.000069  0.001355  0.000813  0.000358  ...    0.069593    0.040838   \n",
       "8509  0.000299  0.001581  0.000813  0.000188  ...    0.096866    0.042456   \n",
       "8510  0.000187  0.001852  0.000994  0.000320  ...    0.030307    0.030011   \n",
       "8511  0.000222  0.001536  0.000723  0.000282  ...    0.040751    0.030427   \n",
       "8512  0.000217  0.001491  0.000678  0.000339  ...    0.075640    0.037151   \n",
       "\n",
       "      totflux_56  totflux_67  totflux_78  totflux_89  totflux_910  \\\n",
       "0       0.030934    0.040859    0.038331    0.131056     0.096148   \n",
       "1       0.025919    0.017104    0.028894    0.107275     0.076325   \n",
       "2       0.060646    0.038077    0.023139    0.098119     0.087743   \n",
       "3       0.028614    0.023071    0.031882    0.123170     0.090392   \n",
       "4       0.037495    0.026194    0.022567    0.106355     0.090218   \n",
       "...          ...         ...         ...         ...          ...   \n",
       "8508    0.045282    0.037338    0.025541    0.095661     0.073562   \n",
       "8509    0.041664    0.068211    0.044834    0.103814     0.055921   \n",
       "8510    0.023885    0.031978    0.042604    0.124034     0.078369   \n",
       "8511    0.036268    0.051505    0.039690    0.096820     0.062002   \n",
       "8512    0.041584    0.047811    0.038650    0.092503     0.065013   \n",
       "\n",
       "      totflux_1011   totflux  storm  \n",
       "0         0.077660  0.550661   -1.0  \n",
       "1         0.076977  0.530818   -1.0  \n",
       "2         0.086886  0.530623   -1.0  \n",
       "3         0.089222  0.546377   -1.0  \n",
       "4         0.085287  0.477488   -1.0  \n",
       "...            ...       ...    ...  \n",
       "8508      0.081907  0.665514   -1.0  \n",
       "8509      0.059958  0.942331   -1.0  \n",
       "8510      0.085674  0.673831   -1.0  \n",
       "8511      0.077077  0.717159   -1.0  \n",
       "8512      0.083109  0.780511   -1.0  \n",
       "\n",
       "[8513 rows x 40 columns]"
      ]
     },
     "execution_count": 115,
     "metadata": {},
     "output_type": "execute_result"
    }
   ],
   "source": [
    "dfEH['totflux'] = dfEH['totflux_23'] + dfEH['totflux_34'] + dfEH['totflux_45'] + dfEH['totflux_56'] + dfEH['totflux_67'] + dfEH['totflux_78'] + dfEH['totflux_89'] + dfEH['totflux_910'] + dfEH['totflux_1011']\n",
    "\n",
    "dfEH['storm'] = np.floor((np.log10(dfEH['totflux'])))# Determine the solar storm level by taking the logarithm of the total integrated flux above 10 MeV to the base 10 - Round this value down to the next integer with floor method and display\n",
    "dfEH"
   ]
  },
  {
   "cell_type": "code",
   "execution_count": 116,
   "metadata": {},
   "outputs": [],
   "source": [
    "# save dataframe to .txt file\n",
    "dfEH.to_csv('GOESsat_data.txt', sep=',')"
   ]
  },
  {
   "cell_type": "markdown",
   "metadata": {},
   "source": [
    "The maximum proton flux for the month, when it happened and what solar storm level it was are found below and displayed with the graph of the integrated proton flux above 10 MeV as a function of time. The data is plotted using a log scale for the flux axis and changing the index to the 'time_tag' column. "
   ]
  },
  {
   "cell_type": "code",
   "execution_count": 118,
   "metadata": {
    "scrolled": true
   },
   "outputs": [],
   "source": [
    "maxrow=dfEH['totflux'].idxmax() # Determine maximum proton flux where row has total integrated flux over 10 MeV maxiumum value\n",
    "maxflux=dfEH['totflux'].iloc[maxrow]\n",
    "\n",
    "maxtime = dfEH['time_tag'].iloc[maxrow] # Determine when storm happened - what time corresponds to the maximum value of total integrated flux over 10 MeV\n",
    "\n",
    "maxstorm = dfEH['storm'].iloc[maxrow] # Determine storm level - the value of the logarithm to the base 10 of the total integrated flux above 10 MeV (rounded down)"
   ]
  },
  {
   "cell_type": "code",
   "execution_count": 119,
   "metadata": {},
   "outputs": [
    {
     "name": "stdout",
     "output_type": "stream",
     "text": [
      "The maximum flux is  4057.935365478544 . \n",
      "The time at which the maximum flux occured was  2015-06-22 18:55:00 . \n",
      "The storm level is  3.0 . \n"
     ]
    }
   ],
   "source": [
    "dfEH.set_index(['time_tag'], inplace=True) # Change dataframe index to column for 'time_tag'\n",
    "\n",
    "print ('The maximum flux is ', maxflux, '. ') # Display maximum proton flux value\n",
    "print ('The time at which the maximum flux occured was ', maxtime, '. ') # Display what time it occured at\n",
    "print ('The storm level is ', maxstorm, '. ') # Display storm level"
   ]
  },
  {
   "cell_type": "code",
   "execution_count": 120,
   "metadata": {},
   "outputs": [],
   "source": [
    "graph = pd.DataFrame(dfEH['totflux'])\n",
    "graph = dfEH.reset_index() # reset index for easier plotting"
   ]
  },
  {
   "cell_type": "code",
   "execution_count": 121,
   "metadata": {},
   "outputs": [
    {
     "data": {
      "image/png": "[encoded data removed]",
      "text/plain": [
       "<Figure size 3000x500 with 1 Axes>"
      ]
     },
     "metadata": {},
     "output_type": "display_data"
    }
   ],
   "source": [
    "sns.set(rc={\"figure.figsize\":(30, 5)}) # Set figure size\n",
    "\n",
    "# Plot total integrated proton flux above 10 MeV on a log scale as a function of time\n",
    "# Change line colour from blue to black in the interest of accessability\n",
    "l = sns.lineplot(data=graph, x=\"time_tag\", y=\"totflux\", color='k', legend=False).set(yscale='log')\n",
    "\n",
    "# Add title and change x and y axis labels\n",
    "plt.title('Integrated proton Flux for given date and satellite', fontdict = {'fontsize' : 20})\n",
    "plt.xlabel(\"Date & Time\")\n",
    "plt.ylabel(\"Total integrated proton flux above 10 MeV\")\n",
    "plt.savefig('Intprotonfluxfig.png')\n",
    "plt.show()"
   ]
  },
  {
   "cell_type": "markdown",
   "metadata": {},
   "source": [
    "Analysis: The highest peak of the total integrated proton flux above 10 MeV on a log scale illustrates the storm level as defined by NOAA, where:\n",
    "\n",
    "10^1 = level 1 (minor)\n",
    "\n",
    "10^2 = level 2 (moderate)\n",
    "\n",
    "10^3 = level 3 (strong)\n",
    "\n",
    "10^4 = level 4 (severe)\n",
    "\n",
    "10^5 = level 5 (extreme)\n",
    "\n",
    "More information on these categories can be found at : https://www.swpc.noaa.gov/noaa-scales-explanation"
   ]
  },
  {
   "cell_type": "code",
   "execution_count": null,
   "metadata": {},
   "outputs": [],
   "source": []
  }
 ],
 "metadata": {
  "kernelspec": {
   "display_name": "Python 3 (ipykernel)",
   "language": "python",
   "name": "python3"
  },
  "language_info": {
   "codemirror_mode": {
    "name": "ipython",
    "version": 3
   },
   "file_extension": ".py",
   "mimetype": "text/x-python",
   "name": "python",
   "nbconvert_exporter": "python",
   "pygments_lexer": "ipython3",
   "version": "3.9.19"
  }
 },
 "nbformat": 4,
 "nbformat_minor": 4
}
